{
 "cells": [
  {
   "cell_type": "markdown",
   "metadata": {},
   "source": [
    "---\n",
    "### Universidad de Costa Rica\n",
    "#### IE0405 - Modelos Probabilísticos de Señales y Sistemas\n",
    "---\n",
    "\n",
    "- Estudiante1: **Katharina Alfaro Solís**\n",
    "- Carné: **B80251**\n",
    "\n",
    "- Estudiante1: **Alexa Carmona Buzo**\n",
    "- Carné: **B91643**\n",
    "\n",
    "- Estudiante1: **Raquel Corrales Marín**\n",
    "- Carné: **B92378**\n",
    "- Grupo: **1**\n",
    "\n",
    "\n",
    "# `P5` - *Procesos M/M/s*\n",
    "\n",
    "> El caso especial de los procesos aleatorios donde existen \"estados\" y \"transiciones\" entre estos estados, las cadenas de Markov modelan las probabilidades de transición y el tiempo de permanencia entre cada estado. En particular, la teoría de colas describe la evolución del número de elementos en la fila, dado un flujo de entrada y un flujo de salida.\n",
    "\n",
    "---"
   ]
  },
  {
   "cell_type": "markdown",
   "metadata": {},
   "source": [
    "## 1. Sistemas M/M/1\n",
    "\n",
    "Con una tasa de llegada $\\lambda$ y un parámetro de tiempo de servicio $\\nu$, un proceso de Markov con un solo servidor también recibe la notación de *sistema de colas* **M/M/1** (donde la M viene de Markov). Más en general, con $s$ servidores es un sistema **M/M/s**.\n",
    "\n",
    "La simulación de un sistema del tipo **M/M/1** implica la generación de una llegada de \"clientes\" como una *corriente de Poisson*. Esto es equivalente a decir que tienen una distribución de probabilidad de *tiempo entre arribos* con distribución exponencial y parámetro $\\lambda$.\n",
    "\n",
    "Por su parte, el *tiempo de servicio* tiene también una distribución exponencial pero con parámetro $\\nu$. A la relación $\\lambda/\\nu$ usualmente se le conoce como $\\rho$.\n",
    "\n",
    "**Nota**: El tiempo de servicio se asume independiente del tiempo de llegada.\n",
    "\n",
    "#### Sobre la simulación\n",
    "\n",
    "Es posible crear una simulación de $N$ clientes con sus respectivos tiempos de servicio, distribuidos en el tiempo.\n",
    "\n",
    "Para medir el tiempo se puede utilizar una medida mínima arbitraria, pero que tenga sentido para el problema. Por ejemplo: si la tasa de llegada es de 1 persona/minuto, vale más tener una granularidad de segundos o decenas de segundos para capturar una precisión temporal adecuada.\n",
    "\n",
    "**Nota**: De la selección de $N$ puede depender la precisión deseada para el resultado. Por ejemplo: con $N = 1000$ es posible obtener una precisión de hasta el 0,001 o 0,1% ($1/N$).\n",
    "\n",
    "### 1.1. - Problema de ejemplo: un servidor web\n",
    "\n",
    "> Un servidor web es modelado como un sistema M/M/1 con una tasa de arribo de dos solicitudes por minuto. Es deseado tener cuatro o menos solicitudes en fila el 99\\% del tiempo. ¿Qué tan rápido debe ser el servicio? $\\nu$ es el parámetro de solicitudes atendidas por minuto.\n",
    "\n",
    "El estado $i$ es el número de clientes en el sistema. La longitud de la fila es $L_q = i - 1$ (*queue length*), en virtud de la solicitud que está siendo atendida en $s = 1$ servidores. Es posible encontrar que:\n",
    "\n",
    "$$\n",
    "P( \\text{5 o más clientes en el sistema} ) = \\sum_{i=5}^{\\infty} (1 - \\rho) \\rho^i  = 1 - \\sum_{i=0}^{4} (1 - \\rho) \\rho^i = \\rho^5\n",
    "$$\n",
    "\n",
    "que depende de $\\rho = \\lambda/\\nu$ y del parámetro de servicio $\\nu$ buscado. \n",
    "\n",
    "De los datos del problema: $\\lambda = 2$. Para tener una fila de 3 o menos clientes el 99\\% del tiempo se necesita:\n",
    "\n",
    "$$\n",
    "\\begin{aligned}\n",
    "P( \\text{5 o más clientes en el sistema} ) = \\rho^5 & = \\left( \\frac{\\lambda}{\\nu} \\right)^5 \\leq 0.01 \\\\\n",
    "\\nu^5 & \\geq \\frac{\\lambda^5}{0.01} = \\frac{2^5}{0.01} = 3200 \\quad \\Rightarrow \\quad \\nu \\geq 5.024\n",
    "\\end{aligned}\n",
    "$$\n",
    "\n",
    "es decir, el servidor debe atender más de 5,024 solicitudes por minuto en promedio para poder satisfacer el requisito.\n",
    "\n",
    "En la siguiente simulación, con $N = 1000$, y $\\nu = 3 < 5.024$ deberíamos obtener una probabilidad $P( \\text{5 o más clientes en el sistema} ) > 0.01$ que **no** cumple con las especificaciones.\n",
    "\n",
    "**Nota**: Observar el cambio de unidades de minutos a segundos, para lograr mayor \"granularidad\"."
   ]
  },
  {
   "cell_type": "code",
   "execution_count": 4,
   "metadata": {},
   "outputs": [
    {
     "name": "stdout",
     "output_type": "stream",
     "text": [
      "Parámetro lambda = 2.0\n",
      "Parámetro nu = 3.0\n",
      "Tiempo con más de 3 solicitudes en fila:\n",
      "\t 13.46%\n",
      "\t No cumple con la especificación.\n",
      "Simulación es equivalente a 8.47 horas.\n"
     ]
    },
    {
     "data": {
      "image/png": "[encoded data removed]",
      "text/plain": [
       "<Figure size 432x288 with 1 Axes>"
      ]
     },
     "metadata": {
      "needs_background": "light"
     },
     "output_type": "display_data"
    }
   ],
   "source": [
    "import numpy as np\n",
    "from scipy import stats\n",
    "import matplotlib.pyplot as plt\n",
    "\n",
    "# Número de clientes\n",
    "N = 1000\n",
    "\n",
    "# Parámetro de llegada (clientes/segundos)\n",
    "lam = 2/60\n",
    "\n",
    "# Parámetro de servicio (servicios/segundos)\n",
    "nu = 3/60\n",
    "\n",
    "# Distribución de los tiempos de llegada entre cada cliente\n",
    "X = stats.expon(scale = 1/lam)\n",
    "\n",
    "# Distribución de los tiempos de servicio a cada cliente\n",
    "Y = stats.expon(scale = 1/nu)\n",
    "\n",
    "# Intervalos entre llegadas (segundos desde último cliente)\n",
    "t_intervalos = np.ceil(X.rvs(N)).astype('int')\n",
    "\n",
    "# Tiempos de las llegadas (segundos desde el inicio)\n",
    "t_llegadas = [t_intervalos[0]]\n",
    "for i in range(1, len(t_intervalos)):\n",
    "    siguiente = t_llegadas[i-1] + t_intervalos[i]\n",
    "    t_llegadas.append(siguiente)\n",
    "\n",
    "# Tiempos de servicio (segundos desde inicio de servicio)\n",
    "t_servicio = np.ceil(Y.rvs(N)).astype('int')\n",
    "\n",
    "# Inicialización del tiempo de inicio y fin de atención\n",
    "inicio = t_llegadas[0]          # primera llegada\n",
    "fin = inicio + t_servicio[0]    # primera salida\n",
    "\n",
    "# Tiempos en que recibe atención cada i-ésimo cliente (!= que llega)\n",
    "t_atencion = [inicio]\n",
    "for i in range(1, N):\n",
    "    inicio = np.max((t_llegadas[i], fin))\n",
    "    fin = inicio + t_servicio[i]\n",
    "    t_atencion.append(inicio)\n",
    "\n",
    "# Inicialización del vector temporal para registrar eventos\n",
    "t = np.zeros(t_atencion[-1] + t_servicio[-1] + 1)\n",
    "\n",
    "# Asignación de eventos de llegada (+1) y salida (-1) de clientes\n",
    "for c in range(N):\n",
    "    i = t_llegadas[c]\n",
    "    t[i] += 1\n",
    "    j = t_atencion[c] + t_servicio[c]\n",
    "    t[j] -= 1\n",
    "\n",
    "# Umbral de P o más personas en sistema (hay P - 1 en fila)\n",
    "P = 5\n",
    "\n",
    "# Instantes (segundos) de tiempo con P o más solicitudes en sistema\n",
    "exceso = 0\n",
    "\n",
    "# Proceso aleatorio (estados n = {0, 1, 2...})\n",
    "Xt = np.zeros(t.shape)\n",
    "\n",
    "# Inicialización de estado n\n",
    "n = 0\n",
    "\n",
    "# Recorrido del vector temporal y conteo de clientes (estado n)\n",
    "for i, c in enumerate(t):\n",
    "    n += c # sumar (+1) o restar (-1) al estado\n",
    "    Xt[i] = n\n",
    "    if Xt[i] >= P: \n",
    "        exceso += 1\n",
    "\n",
    "# Fracción de tiempo con P o más solicitudes en sistema\n",
    "fraccion = exceso / len(t)\n",
    "\n",
    "# Resultados\n",
    "print('Parámetro lambda =', str(lam*60))\n",
    "print('Parámetro nu =', str(nu*60))\n",
    "print('Tiempo con más de {} solicitudes en fila:'.format(P-2))\n",
    "print('\\t {:0.2f}%'.format(100*fraccion))\n",
    "if fraccion <= 0.01:\n",
    "    print('\\t Sí cumple con la especificación.')\n",
    "else:\n",
    "    print('\\t No cumple con la especificación.') \n",
    "print('Simulación es equivalente a {:0.2f} horas.'.format(len(t)/3600))\n",
    "\n",
    "# Gráfica de X(t) (estados del sistema)\n",
    "plt.figure()\n",
    "plt.plot(Xt)\n",
    "plt.plot(range(len(t)), (P-1)*np.ones(t.shape))\n",
    "plt.legend(('$X(t) = n$', '$L_q = $' + str(P-2)))\n",
    "plt.ylabel('Clientes en el sistema, $n$')\n",
    "plt.xlabel('Tiempo, $t$ / segundos')\n",
    "plt.xlim((0, 5000))\n",
    "plt.show()"
   ]
  },
  {
   "cell_type": "markdown",
   "metadata": {},
   "source": [
    "---\n",
    "## 2. - Asignaciones\n",
    "\n",
    "Es menester tomar una decisión con respecto al número de \"servidores\" necesarios para cierto proceso de vacunación, de forma tal que el sistema no exceda 50 personas en fila durante el 95% del tiempo de servicio. \n",
    "\n",
    "En un estudio de afluencia y del tiempo de servicio se asumen y determinan los siguientes parámetros:\n",
    "\n",
    "- La tasa de llegada $\\lambda$ es constante durante ocho horas de funcionamiento y tiene un valor de $\\lambda = 4$ personas por minuto.\n",
    "\n",
    "- La tasa de servicio $\\nu$ de cada \"servidor\" (es decir, personal de salud tomando datos y vacunando) es constante durante ocho horas de funcionamiento y tiene un valor de $\\nu = 0.25$ personas por minuto.\n",
    "\n",
    "Entonces,\n",
    "\n",
    "- (40%) Hacer la determinación teórica del número $s$ de servidores necesarios para cumplir el requisito.\n",
    "- (60%) Modificar el código provisto para simular y corroborar el resultado anterior y crear al menos dos gráficas que muestren esta simulación.\n",
    "\n",
    "#### Sobre la presentación\n",
    "\n",
    "El trabajo debe entregarse como un *notebook* de Jupyter nuevo (sin incluir información de este enunciado), en la forma de reporte. La primera parte de las asignaciones debe ser desarrollada por completo y en orden, editando las ecuaciones en $\\LaTeX$. La segunda parte debe incluir el código desarrollado y sus resultados. Esto es enviado vía Mediación Virtual, uno por grupo."
   ]
  },
  {
   "cell_type": "markdown",
   "metadata": {},
   "source": [
    "## Parte 1 (40 %)\n",
    "Datos: \n",
    "$\\lambda$ = 4 personas por minuto\n",
    "$\\nu = 0.25$ personas por minuto\n",
    "\n",
    "Primero se establece la probabilidad de que suceda la condición de ruptura que es excederse de 50 personas en fila, por medio de la siguiente expresión:\n",
    "\n",
    "$$\n",
    "P( \\text{51 o más clientes en el sistema} ) = \\sum_{i=5}^{\\infty} (1 - \\rho) \\rho^i  = 1 - \\sum_{i=0}^{50} (1 - \\rho) \\rho^i = \\rho^{51}\n",
    "$$\n",
    "\n",
    "$$\n",
    "    \\Longrightarrow P( \\text{51 o más clientes en el sistema} ) = \\rho^{51}   \\;\\;\\;\\;\\;\\; (1)\n",
    "    \\label{eq1}\n",
    "$$\n",
    "\n",
    "Se considera $\\rho$ como:\n",
    "\n",
    "$$\n",
    "    \\rho =  \\frac{\\lambda}{\\nu} \\;\\;\\;\\;\\;\\; (2)\n",
    "    \\label{eq2}\n",
    "$$\n",
    "\n",
    "Por lo tanto, sustituyendo (2) en (1), se tiene:\n",
    "\n",
    "$$\n",
    "    P( \\text{51 o más clientes en el sistema} ) = \\left(\\frac{\\lambda}{\\nu}\\right)^{51}\n",
    "$$\n",
    "\n",
    "El sistema no debe excederse más de 50 personas en fila durante el 95% del tiempo de servicio, entonces:\n",
    "\n",
    "$$\n",
    "    P( \\text{51 o más clientes en el sistema} ) = \\left(\\frac{\\lambda}{\\nu}\\right)^{51} \\leq 0.05\n",
    "$$\n",
    "\n",
    "Ya que es el 5% de probabilidad en donde puede ocurrir la ruptura. De forma que despejando $s$ de la expresión anterior:\n",
    "\n",
    "$$\n",
    "    \\Longrightarrow s^{51} \\geq \\frac{\\lambda^{51}}{0.05\\nu^{51}}\n",
    "$$\n",
    "\n",
    "$$\n",
    "   \\Longrightarrow s \\geq \\frac{\\lambda}{v} \\; \\sqrt[51]{\\frac{1}{0.05}}\n",
    "$$\n",
    "\n",
    "$$\n",
    "    \\Longrightarrow s \\geq \\frac{4}{0.25} \\; \\sqrt[51]{\\frac{1}{0.05}}\n",
    "$$\n",
    "\n",
    "$$\n",
    "    \\Longrightarrow s \\geq 16,97\n",
    "$$\n",
    "\n",
    "Entonces, se deben tener al menos 17 servidores, los cuales son necesarios para que el sistema no exceda más de 50 personas en la fila durante el 95% del tiempo de servicio.\n"
   ]
  },
  {
   "cell_type": "markdown",
   "metadata": {},
   "source": [
    "## Parte 2 (60 %)\n",
    "\n",
    "Ahora se relizará el programa para verificar los resultados obtenidos en la primera sección."
   ]
  },
  {
   "cell_type": "code",
   "execution_count": 42,
   "metadata": {},
   "outputs": [],
   "source": [
    "# Se procede a implementar a partir del código dado una\n",
    "# función que recibe los parámetros:\n",
    "    # Los parámetros se definen como:\n",
    "    #- N: Número de clientes\n",
    "    #- nu: Parámetro de servicio (servicios/segundos)\n",
    "    #- lam: Parámetro de llegada (clientes/segundos)\n",
    "    #- ns: Número de servidores \n",
    "# Y además, da la gráfica de los resultados\n",
    "\n",
    "\n",
    "import numpy as np\n",
    "from scipy import stats\n",
    "import matplotlib.pyplot as plt\n",
    "\n",
    "def programa(N, lam, nu, ns):\n",
    "\n",
    "    # Distribución de los tiempos de llegada entre cada cliente\n",
    "    X = stats.expon(scale = 1/lam)\n",
    "\n",
    "    # Distribución de los tiempos de servicio a cada cliente\n",
    "    Y = stats.expon(scale = 1/(ns*nu))\n",
    "\n",
    "    # Intervalos entre llegadas (segundos desde último cliente)\n",
    "    t_intervalos = np.ceil(X.rvs(N)).astype('int')\n",
    "\n",
    "    # Tiempos de las llegadas (segundos desde el inicio)\n",
    "    t_llegadas = [t_intervalos[0]]\n",
    "    for i in range(1, len(t_intervalos)):\n",
    "        siguiente = t_llegadas[i-1] + t_intervalos[i]\n",
    "        t_llegadas.append(siguiente)\n",
    "        \n",
    "        \n",
    "\n",
    "    # Tiempos de servicio (segundos desde inicio de servicio)\n",
    "    t_servicio = np.ceil(Y.rvs(N)).astype('int')\n",
    "\n",
    "    # Inicialización del tiempo de inicio y fin de atención\n",
    "    inicio = t_llegadas[0]          # primera llegada\n",
    "    fin = inicio + t_servicio[0]    # primera salida\n",
    "\n",
    "    # Tiempos en que recibe atención cada i-ésimo cliente (!= que llega)\n",
    "    t_atencion = [inicio]\n",
    "    for i in range(1, N):\n",
    "        inicio = np.max((t_llegadas[i], fin))\n",
    "        fin = inicio + t_servicio[i]\n",
    "        t_atencion.append(inicio)\n",
    "\n",
    "    # Inicialización del vector temporal para registrar eventos\n",
    "    t = np.zeros(t_atencion[-1] + t_servicio[-1] + 1)\n",
    "\n",
    "    # Asignación de eventos de llegada (+1) y salida (-1) de clientes\n",
    "    for c in range(N):\n",
    "        i = t_llegadas[c]\n",
    "        t[i] += 1\n",
    "        j = t_atencion[c] + t_servicio[c]\n",
    "        t[j] -= 1\n",
    "\n",
    "    # Umbral de P o más personas en sistema (hay P - 1 en fila)\n",
    "    P = 101\n",
    "\n",
    "    # Instantes (segundos) de tiempo con P o más solicitudes en sistema\n",
    "    exceso = 0\n",
    "\n",
    "    # Proceso aleatorio (estados n = {0, 1, 2...})\n",
    "    Xt = np.zeros(t.shape)\n",
    "\n",
    "    # Inicialización de estado n\n",
    "    n = 0\n",
    "\n",
    "    # Recorrido del vector temporal y conteo de clientes (estado n)\n",
    "    for i, c in enumerate(t):\n",
    "        n += c # sumar (+1) o restar (-1) al estado\n",
    "        Xt[i] = n\n",
    "        if Xt[i] >= P: \n",
    "            exceso += 1\n",
    "\n",
    "    # Fracción de tiempo con P o más solicitudes en sistema\n",
    "    fraccion = exceso / len(t)\n",
    "\n",
    "    # Resultados\n",
    "    print('Parámetro lambda =', str(lam*60))\n",
    "    print('Parámetro nu =', str(nu*60))\n",
    "    print('Tiempo con más de {} solicitudes en fila:'.format(P-2))\n",
    "    print('\\t {:0.2f}%'.format(100*fraccion))\n",
    "    if fraccion <= 0.25:\n",
    "        print('\\t Sí cumple con la especificación.')\n",
    "    else:\n",
    "        print('\\t No cumple con la especificación.') \n",
    "    print('Simulación es equivalente a {:0.2f} horas.'.format(len(t)/3600))\n",
    "\n",
    "    # Gráfica de X(t) (estados del sistema)\n",
    "    plt.figure()\n",
    "    plt.plot(Xt)\n",
    "    plt.plot(range(len(t)), (P-1)*np.ones(t.shape))\n",
    "    plt.legend(('$X(t) = n$', '$L_q = $' + str(P-2)))\n",
    "    plt.ylabel('Clientes en el sistema, $n$')\n",
    "    plt.xlabel('Tiempo, $t$ / segundos')\n",
    "    plt.xlim((0, 3000))\n",
    "    plt.show()"
   ]
  },
  {
   "cell_type": "markdown",
   "metadata": {},
   "source": [
    "Se correrá el código implementado para distintos valores.\n",
    "Inicialmente se realiza la simulación con un número de servidores igual a ns=17"
   ]
  },
  {
   "cell_type": "code",
   "execution_count": 47,
   "metadata": {},
   "outputs": [
    {
     "name": "stdout",
     "output_type": "stream",
     "text": [
      "Parámetro lambda = 4.0\n",
      "Parámetro nu = 0.25\n",
      "Tiempo con más de 99 solicitudes en fila:\n",
      "\t 0.00%\n",
      "\t Sí cumple con la especificación.\n",
      "Simulación es equivalente a 0.22 horas.\n"
     ]
    },
    {
     "data": {
      "image/png": "[encoded data removed]",
      "text/plain": [
       "<Figure size 432x288 with 1 Axes>"
      ]
     },
     "metadata": {
      "needs_background": "light"
     },
     "output_type": "display_data"
    }
   ],
   "source": [
    "programa(50, (4/60), (0.25/60), 17)"
   ]
  },
  {
   "cell_type": "markdown",
   "metadata": {},
   "source": [
    "Se realiza la simulación con un número de servidores mayor al número de servidores encontrado, para este caso se empleará ns=20"
   ]
  },
  {
   "cell_type": "code",
   "execution_count": 46,
   "metadata": {},
   "outputs": [
    {
     "name": "stdout",
     "output_type": "stream",
     "text": [
      "Parámetro lambda = 4.0\n",
      "Parámetro nu = 0.25\n",
      "Tiempo con más de 99 solicitudes en fila:\n",
      "\t 0.00%\n",
      "\t Sí cumple con la especificación.\n",
      "Simulación es equivalente a 0.25 horas.\n"
     ]
    },
    {
     "data": {
      "image/png": "[encoded data removed]",
      "text/plain": [
       "<Figure size 432x288 with 1 Axes>"
      ]
     },
     "metadata": {
      "needs_background": "light"
     },
     "output_type": "display_data"
    }
   ],
   "source": [
    "programa(50, (4/60), (0.25/60),18)"
   ]
  },
  {
   "cell_type": "markdown",
   "metadata": {},
   "source": [
    "Finalmente se simulará para un valor menor al esperado ns = 16"
   ]
  },
  {
   "cell_type": "code",
   "execution_count": 45,
   "metadata": {},
   "outputs": [
    {
     "name": "stdout",
     "output_type": "stream",
     "text": [
      "Parámetro lambda = 4.0\n",
      "Parámetro nu = 0.25\n",
      "Tiempo con más de 99 solicitudes en fila:\n",
      "\t 0.00%\n",
      "\t Sí cumple con la especificación.\n",
      "Simulación es equivalente a 0.20 horas.\n"
     ]
    },
    {
     "data": {
      "image/png": "[encoded data removed]",
      "text/plain": [
       "<Figure size 432x288 with 1 Axes>"
      ]
     },
     "metadata": {
      "needs_background": "light"
     },
     "output_type": "display_data"
    }
   ],
   "source": [
    "programa(50, (4/60), (0.25/60),16)"
   ]
  },
  {
   "cell_type": "markdown",
   "metadata": {},
   "source": [
    "De las simulaciones realizadas se puede concluir que "
   ]
  },
  {
   "cell_type": "markdown",
   "metadata": {},
   "source": [
    "---\n",
    "\n",
    "**Universidad de Costa Rica**\n",
    "\n",
    "Facultad de Ingeniería\n",
    "\n",
    "Escuela de Ingeniería Eléctrica\n",
    "\n",
    "---"
   ]
  }
 ],
 "metadata": {
  "kernelspec": {
   "display_name": "Python 3",
   "language": "python",
   "name": "python3"
  },
  "language_info": {
   "codemirror_mode": {
    "name": "ipython",
    "version": 3
   },
   "file_extension": ".py",
   "mimetype": "text/x-python",
   "name": "python",
   "nbconvert_exporter": "python",
   "pygments_lexer": "ipython3",
   "version": "3.8.8"
  }
 },
 "nbformat": 4,
 "nbformat_minor": 2
}
